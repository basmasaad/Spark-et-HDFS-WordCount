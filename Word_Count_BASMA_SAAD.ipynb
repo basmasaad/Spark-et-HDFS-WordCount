{
 "cells": [
  {
   "cell_type": "markdown",
   "metadata": {},
   "source": [
    "<h1 style='color:red'> WordCount en utilisant Spark et HDFS</h1>"
   ]
  },
  {
   "cell_type": "markdown",
   "metadata": {},
   "source": [
    "<p> <b>Etapes:</b> </p> <br>\n",
    "  <p>  1-Demarrer les services YARN et HDFS de Hadoop<br>\n",
    "    2-Creer un dossier input avec la commande : <b>hadoop fs -mkdir /input</b><br>\n",
    "    3-Importer le fichier poeme.txt dans le hdfs dans input avec la commande :<b> hadoop fs -put c:/poeme.txt /input</b></p> <br>\n",
    "    <img src=\"capt.PNG\"><br>\n",
    "     <p>  4-le port dans lequel demarre hadoop est dans le fichier core-site.xml<br></p>\n",
    "     <img src=\"cap.PNG\"><br>\n",
    "    \n",
    "    "
   ]
  },
  {
   "cell_type": "code",
   "execution_count": 2,
   "metadata": {
    "collapsed": true
   },
   "outputs": [],
   "source": [
    "text_file = sc.textFile(\"hdfs://localhost:50071/input/poeme.txt\")#lire le fichier poeme.txt"
   ]
  },
  {
   "cell_type": "code",
   "execution_count": 2,
   "metadata": {
    "collapsed": true
   },
   "outputs": [],
   "source": [
    "counts = text_file.flatMap(lambda line: line.split(\" \")) \\#faire un splite des lignes d'entrée\n",
    "             .map(lambda word: (word, 1)) \\#pour chaque mot on donne la valeur 1\n",
    "             .reduceByKey(lambda a, b: a + b)#on fait une somme des valeurs qui ont la meme clès\n",
    "counts.saveAsTextFile(\"hdfs://localhost:50071/resultspark\")#on stock le resultat dans un fichier resultspark"
   ]
  },
  {
   "cell_type": "markdown",
   "metadata": {},
   "source": [
    "<img src=\"Capture.PNG\">"
   ]
  },
  {
   "cell_type": "code",
   "execution_count": 4,
   "metadata": {},
   "outputs": [],
   "source": [
    "result=sc.textFile(\"hdfs://localhost:50071/resultspark/part-00001\")#Lire le fichier part-00001"
   ]
  },
  {
   "cell_type": "code",
   "execution_count": 6,
   "metadata": {
    "collapsed": true
   },
   "outputs": [],
   "source": [
    "llist = result.collect()#On stocke le fichier part-00001 dans une liste"
   ]
  },
  {
   "cell_type": "code",
   "execution_count": 7,
   "metadata": {},
   "outputs": [
    {
     "name": "stdout",
     "output_type": "stream",
     "text": [
      "('celui', 20)\n",
      "('qui', 25)\n",
      "('ciel', 10)\n",
      "('la', 8)\n",
      "('belle', 1)\n",
      "('soldats', 1)\n",
      "('lequel', 5)\n",
      "('a', 6)\n",
      "('lechelle', 1)\n",
      "('et', 11)\n",
      "('guettait', 1)\n",
      "('quimporte', 1)\n",
      "('comment', 1)\n",
      "('clarte', 1)\n",
      "('de', 5)\n",
      "('chapelle', 1)\n",
      "('lautre', 4)\n",
      "('sy', 1)\n",
      "('derobât', 1)\n",
      "('etaient', 1)\n",
      "('fideles', 1)\n",
      "('levres', 1)\n",
      "('coeur', 2)\n",
      "('bras', 1)\n",
      "('disaient', 1)\n",
      "('vive', 1)\n",
      "('quand', 2)\n",
      "('bles', 1)\n",
      "('grele', 1)\n",
      "('delicat', 1)\n",
      "('songe', 1)\n",
      "('querelles', 1)\n",
      "('commun', 1)\n",
      "('combat', 1)\n",
      "('sentinelle', 1)\n",
      "('par', 1)\n",
      "('fois', 1)\n",
      "('tombe', 1)\n",
      "('prison', 1)\n",
      "('plus', 2)\n",
      "('triste', 1)\n",
      "('prefere', 1)\n",
      "('un', 4)\n",
      "('font', 1)\n",
      "('glas', 1)\n",
      "('vient', 1)\n",
      "('cruelle', 1)\n",
      "('passent', 1)\n",
      "('vie', 1)\n",
      "('trepas', 1)\n",
      "('repetant', 1)\n",
      "('nom', 1)\n",
      "('celle', 1)\n",
      "('ne', 1)\n",
      "('trompa', 1)\n",
      "('sang', 1)\n",
      "('ruisselle', 1)\n",
      "('couleur', 1)\n",
      "('eclat', 1)\n",
      "('il', 3)\n",
      "('coule', 2)\n",
      "('se', 1)\n",
      "('terre', 1)\n",
      "('qua', 1)\n",
      "('nouvelle', 1)\n",
      "('murisse', 1)\n",
      "('court', 1)\n",
      "('ailes', 1)\n",
      "('bretagne', 1)\n",
      "('framboise', 1)\n",
      "('mirabelle', 1)\n",
      "('grillon', 1)\n",
      "('dites', 1)\n",
      "('double', 1)\n",
      "('brula', 1)\n",
      "('lhirondelle', 1)\n"
     ]
    }
   ],
   "source": [
    "for line in llist:#On affiche les lignes de la liste\n",
    "    print(line)"
   ]
  },
  {
   "cell_type": "code",
   "execution_count": null,
   "metadata": {
    "collapsed": true
   },
   "outputs": [],
   "source": []
  }
 ],
 "metadata": {
  "kernelspec": {
   "display_name": "Python 3",
   "language": "python",
   "name": "python3"
  },
  "language_info": {
   "codemirror_mode": {
    "name": "ipython",
    "version": 3
   },
   "file_extension": ".py",
   "mimetype": "text/x-python",
   "name": "python",
   "nbconvert_exporter": "python",
   "pygments_lexer": "ipython3",
   "version": "3.6.3"
  }
 },
 "nbformat": 4,
 "nbformat_minor": 2
}
